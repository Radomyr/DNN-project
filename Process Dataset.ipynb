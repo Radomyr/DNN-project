{
 "cells": [
  {
   "cell_type": "code",
   "execution_count": 8,
   "id": "7fe7acc3",
   "metadata": {},
   "outputs": [],
   "source": [
    "def cropAndSave(image, root, category, coordinates, counter):\n",
    "    im1=image.crop(coordinates)\n",
    "    filepath=image.filename.split(\"original dataset\")[0]\n",
    "    newname = root.find(\"./filename\").text.split(\".\")[0] + \"_\" + str(counter) +\".png\"\n",
    "    path = os.path.join(filepath, f\"Processed Dataset\\{category}\")\n",
    "    os.makedirs(path, exist_ok = True)\n",
    "    #width, height = im1.size\n",
    "   # if (width > 50 and height > 50):\n",
    "    im1.save(f\"{path}\\{newname}\")"
   ]
  },
  {
   "cell_type": "code",
   "execution_count": 9,
   "id": "ffcc3d27",
   "metadata": {},
   "outputs": [],
   "source": [
    "def nameFromXml(xmlName,workingDirect):\n",
    "    tree = ET.parse(xmlName)\n",
    "    root = tree.getroot()\n",
    "    imageName=root.find(\"./filename\").text\n",
    "    #print(imageName)\n",
    "    imageName=workingDirect +\"\\\\original dataset\\\\images\\\\\"+ imageName\n",
    "    return imageName, root"
   ]
  },
  {
   "cell_type": "code",
   "execution_count": 10,
   "id": "0bc53ce0",
   "metadata": {},
   "outputs": [],
   "source": [
    "#import libararies\n",
    "from PIL import Image\n",
    "import xml.etree.ElementTree as ET\n",
    "import os"
   ]
  },
  {
   "cell_type": "code",
   "execution_count": 11,
   "id": "f68a3bda",
   "metadata": {},
   "outputs": [],
   "source": [
    "#get all annotations\n",
    "workingDirect=os.getcwd()\n",
    "xmlNames=os.listdir(workingDirect+\"\\\\original dataset\\\\annotations\")\n",
    "xmlNames=[workingDirect+\"\\\\original dataset\\\\annotations\\\\\" + name for name in xmlNames ]"
   ]
  },
  {
   "cell_type": "code",
   "execution_count": 12,
   "id": "6b5d338b",
   "metadata": {},
   "outputs": [],
   "source": [
    "#imageName, root=nameFromXml(xmlNames[1],workingDirect)\n",
    "#im = Image.open(imageName)"
   ]
  },
  {
   "cell_type": "code",
   "execution_count": 14,
   "id": "a9303111",
   "metadata": {},
   "outputs": [],
   "source": [
    "for xmlName in xmlNames:\n",
    "    imageName, root=nameFromXml(xmlName,workingDirect)\n",
    "    im = Image.open(imageName)\n",
    "    #for all objects in the image\n",
    "    counter=0\n",
    "    for obj in root.iter('object'):\n",
    "        #determ properties of object\n",
    "        for child in obj:\n",
    "            if child.tag == 'name':\n",
    "                category = child.text\n",
    "            if child.tag == 'bndbox':\n",
    "                coordinates = tuple(int(c.text) for c in child)\n",
    "                cropAndSave(im, root, category, coordinates, counter)\n",
    "                counter+=1"
   ]
  },
  {
   "cell_type": "code",
   "execution_count": 7,
   "id": "80162416",
   "metadata": {},
   "outputs": [
    {
     "name": "stdout",
     "output_type": "stream",
     "text": [
      "400 267\n"
     ]
    }
   ],
   "source": [
    "width, height = im.size\n",
    "print(width, height )"
   ]
  },
  {
   "cell_type": "code",
   "execution_count": null,
   "id": "7887abda",
   "metadata": {},
   "outputs": [],
   "source": []
  }
 ],
 "metadata": {
  "kernelspec": {
   "display_name": "gpu",
   "language": "python",
   "name": "gpu"
  },
  "language_info": {
   "codemirror_mode": {
    "name": "ipython",
    "version": 3
   },
   "file_extension": ".py",
   "mimetype": "text/x-python",
   "name": "python",
   "nbconvert_exporter": "python",
   "pygments_lexer": "ipython3",
   "version": "3.6.13"
  }
 },
 "nbformat": 4,
 "nbformat_minor": 5
}
